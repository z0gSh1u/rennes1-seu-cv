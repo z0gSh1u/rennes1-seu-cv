{
 "cells": [
  {
   "cell_type": "code",
   "execution_count": 1,
   "id": "6b3f7a19",
   "metadata": {},
   "outputs": [],
   "source": [
    "import numpy as np\n",
    "import cv2\n",
    "import matplotlib.pyplot as plt\n",
    "import os"
   ]
  },
  {
   "cell_type": "code",
   "execution_count": 2,
   "id": "9a58c124",
   "metadata": {},
   "outputs": [],
   "source": [
    "# Copied from Part 1.\n",
    "def lbp_pixel(img, r, c):\n",
    "    h, w = img.shape\n",
    "    offsets = [(-1, -1), (-1, 0), (-1, 1), (0, 1), (1, 1), (1, 0), (1, -1), (0, -1)]\n",
    "    pixel = img[r, c]\n",
    "    res = 0\n",
    "    for (dr, dc) in offsets:\n",
    "        nr, nc = r + dr, c + dc\n",
    "        if nr < 0 or nr > h - 1 or nc < 0 or nc > w - 1:\n",
    "            neighbor = 0\n",
    "        else:\n",
    "            neighbor = img[nr, nc]\n",
    "        code = 0 if neighbor <= pixel else 1\n",
    "        res = (res << 1) + code\n",
    "    return res\n",
    "def calc_lbp_img(img):\n",
    "    imgLBP = np.zeros_like(img)\n",
    "    h, w = img.shape\n",
    "    for r in range(h):\n",
    "        for c in range(w):\n",
    "            imgLBP[r, c] = lbp_pixel(img, r, c)\n",
    "    return imgLBP\n",
    "def calc_lbp_hist(img, normalize=True, mask=None):\n",
    "    imgLBP = calc_lbp_img(img)\n",
    "    hist = cv2.calcHist([imgLBP], [0], mask, [256], [0, 256])\n",
    "    if normalize:\n",
    "        hist /= hist.sum()\n",
    "    return hist.squeeze()"
   ]
  },
  {
   "cell_type": "code",
   "execution_count": 3,
   "id": "aa047980",
   "metadata": {},
   "outputs": [],
   "source": [
    "TrainDir = './data/train'\n",
    "TestDir = './data/test'\n",
    "Categories = ['asphaltroad', 'brickwall', 'gravelroad', 'woodentable']"
   ]
  },
  {
   "cell_type": "code",
   "execution_count": 4,
   "id": "59801760",
   "metadata": {},
   "outputs": [],
   "source": [
    "# Read training set.\n",
    "TrainImgs = []\n",
    "list_labels = []\n",
    "for category in Categories:\n",
    "    for i in range(3):\n",
    "        path = os.path.join(TrainDir, '{}_{}.jpg'.format(category, i + 1))\n",
    "        img = cv2.cvtColor(cv2.imread(path), cv2.COLOR_BGR2GRAY)\n",
    "        img = np.array(img)\n",
    "        TrainImgs.append(img)\n",
    "        list_labels.append(category)"
   ]
  },
  {
   "cell_type": "code",
   "execution_count": 5,
   "id": "f60f63b4",
   "metadata": {},
   "outputs": [],
   "source": [
    "# Compute feature vectors of training set.\n",
    "list_lbp_hist = []\n",
    "for img in TrainImgs:\n",
    "    hist = calc_lbp_hist(img, normalize=True)\n",
    "    list_lbp_hist.append(hist)"
   ]
  },
  {
   "cell_type": "code",
   "execution_count": 6,
   "id": "d8045bf0",
   "metadata": {},
   "outputs": [],
   "source": [
    "# Read test set.\n",
    "TestImgs = []\n",
    "TestLabels = []\n",
    "for category in Categories:\n",
    "    path = os.path.join(TestDir, '{}_4.jpg'.format(category))\n",
    "    img = cv2.cvtColor(cv2.imread(path), cv2.COLOR_BGR2GRAY)\n",
    "    img = np.array(img)\n",
    "    TestImgs.append(img)\n",
    "    TestLabels.append(category)"
   ]
  },
  {
   "cell_type": "code",
   "execution_count": 7,
   "id": "39f5de91",
   "metadata": {},
   "outputs": [],
   "source": [
    "# Compute feature vectors of test set.\n",
    "TestHists = []\n",
    "for img in TestImgs:\n",
    "    hist = calc_lbp_hist(img, normalize=True)\n",
    "    TestHists.append(hist)"
   ]
  },
  {
   "cell_type": "code",
   "execution_count": 8,
   "id": "4ddb159e",
   "metadata": {},
   "outputs": [],
   "source": [
    "# Copied from Part 1.\n",
    "def lbp_histograms_distance(h1, h2):\n",
    "    diff = 0.0\n",
    "    for i in range(256):\n",
    "        diff += abs(h1[i] - h2[i])\n",
    "    return diff"
   ]
  },
  {
   "cell_type": "code",
   "execution_count": 9,
   "id": "84f77519",
   "metadata": {},
   "outputs": [
    {
     "name": "stdout",
     "output_type": "stream",
     "text": [
      "Ground-Truth: asphaltroad, Prediction: asphaltroad\n",
      "Distances:  [0.09  0.213 0.274 0.471 0.403 0.477 0.323 0.353 0.359 0.468 0.482 0.495] \n",
      "\n",
      "Ground-Truth: brickwall, Prediction: brickwall\n",
      "Distances:  [0.522 0.491 0.501 0.078 0.224 0.082 0.425 0.615 0.499 0.475 0.398 0.423] \n",
      "\n",
      "Ground-Truth: gravelroad, Prediction: gravelroad\n",
      "Distances:  [0.334 0.275 0.33  0.443 0.342 0.436 0.166 0.205 0.161 0.51  0.541 0.55 ] \n",
      "\n",
      "Ground-Truth: woodentable, Prediction: woodentable\n",
      "Distances:  [0.453 0.382 0.339 0.366 0.322 0.341 0.47  0.557 0.558 0.187 0.058 0.081] \n",
      "\n"
     ]
    }
   ],
   "source": [
    "np.set_printoptions(precision=3)\n",
    "for i in range(4): # 4 test images\n",
    "    distances = []\n",
    "    histTest = TestHists[i]\n",
    "    for j in range(4 * 3): # 12 training images\n",
    "        histTrain = list_lbp_hist[j]\n",
    "        distances.append(lbp_histograms_distance(histTest, histTrain))\n",
    "    pred = np.argmin(np.array(distances))\n",
    "    print('Ground-Truth: {}, Prediction: {}'\n",
    "          .format(TestLabels[i], list_labels[pred]))\n",
    "    print('Distances: ', np.array(distances), '\\n')"
   ]
  }
 ],
 "metadata": {
  "kernelspec": {
   "display_name": "Python 3 (ipykernel)",
   "language": "python",
   "name": "python3"
  },
  "language_info": {
   "codemirror_mode": {
    "name": "ipython",
    "version": 3
   },
   "file_extension": ".py",
   "mimetype": "text/x-python",
   "name": "python",
   "nbconvert_exporter": "python",
   "pygments_lexer": "ipython3",
   "version": "3.7.11"
  }
 },
 "nbformat": 4,
 "nbformat_minor": 5
}
